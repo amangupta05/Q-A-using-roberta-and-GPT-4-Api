{
 "cells": [
  {
   "cell_type": "code",
   "execution_count": null,
   "metadata": {
    "colab": {
     "base_uri": "https://localhost:8080/"
    },
    "id": "7hf0hNnzg_IX",
    "outputId": "6856aab6-4bf2-4115-9628-f98fc8a88d58"
   },
   "outputs": [
    {
     "name": "stderr",
     "output_type": "stream",
     "text": [
      "/usr/local/lib/python3.10/dist-packages/huggingface_hub/utils/_token.py:89: UserWarning: \n",
      "The secret `HF_TOKEN` does not exist in your Colab secrets.\n",
      "To authenticate with the Hugging Face Hub, create a token in your settings tab (https://huggingface.co/settings/tokens), set it as secret in your Google Colab and restart your session.\n",
      "You will be able to reuse this secret in all of your notebooks.\n",
      "Please note that authentication is recommended but still optional to access public models or datasets.\n",
      "  warnings.warn(\n"
     ]
    },
    {
     "name": "stdout",
     "output_type": "stream",
     "text": [
      "DatasetDict({\n",
      "    train: Dataset({\n",
      "        features: ['id', 'title', 'context', 'question', 'answers'],\n",
      "        num_rows: 130319\n",
      "    })\n",
      "    validation: Dataset({\n",
      "        features: ['id', 'title', 'context', 'question', 'answers'],\n",
      "        num_rows: 11873\n",
      "    })\n",
      "})\n"
     ]
    }
   ],
   "source": [
    "from datasets import load_dataset\n",
    "\n",
    "\n",
    "dataset = load_dataset(\"squad_v2\")\n",
    "\n",
    "# Inspect the dataset structure\n",
    "print(dataset)"
   ]
  },
  {
   "cell_type": "code",
   "execution_count": null,
   "metadata": {
    "id": "UlHpv4UhEIms"
   },
   "outputs": [],
   "source": [
    "import pandas as pd\n"
   ]
  },
  {
   "cell_type": "code",
   "execution_count": null,
   "metadata": {
    "id": "OQlDZ5DHgz8o"
   },
   "outputs": [],
   "source": [
    "data = {\n",
    "    \"id\": [entry['id'] for entry in dataset['train']],\n",
    "    \"title\": [entry['title'] for entry in dataset['train']],\n",
    "    \"context\": [entry['context'] for entry in dataset['train']],\n",
    "    \"question\": [entry['question'] for entry in dataset['train']],\n",
    "    \"answers\": [entry['answers']['text'] for entry in dataset['train']]\n",
    "}"
   ]
  },
  {
   "cell_type": "markdown",
   "metadata": {
    "id": "uIs0IZZNeEXQ"
   },
   "source": []
  },
  {
   "cell_type": "code",
   "execution_count": null,
   "metadata": {
    "colab": {
     "base_uri": "https://localhost:8080/"
    },
    "id": "q3aFZi4WhbQf",
    "outputId": "0614148c-2378-46d0-9a34-6a79dfa81663"
   },
   "outputs": [
    {
     "name": "stdout",
     "output_type": "stream",
     "text": [
      "                 Max Length  Min Length  Average Length\n",
      "context_length         1196         228      641.666667\n",
      "question_length          93          33       51.400000\n",
      "answer_length           115           0       19.266667\n",
      "                                                  context  \\\n",
      "51829   In general, avian influenza is a disease of bi...   \n",
      "19377   The National Historical Publications and Recor...   \n",
      "123528  Starting with Republican Nicholas Longworth in...   \n",
      "25403   122nd Street is mentioned in the movie Taxi Dr...   \n",
      "1519    Wang and Nyima argue that the Ming emperor sen...   \n",
      "61309   After the President signs a bill into law (or ...   \n",
      "105754  Buddhism first entered China during the Easter...   \n",
      "80122   The Sichuan government raised the minimum wage...   \n",
      "14744   Network hardware, software and specifications,...   \n",
      "4194    New York City's commuter rail network is the l...   \n",
      "121888  Constantine's nephew Julian rejected the \"Gali...   \n",
      "31484   Houston has sports teams for every major profe...   \n",
      "24334   Dante made Virgil his guide in Hell and the gr...   \n",
      "19272   The British Architectural Library, sometimes r...   \n",
      "95519   On June 16, 1911, their four companies were co...   \n",
      "\n",
      "                                                 question  \\\n",
      "51829   What is the danger to humans in regards to the...   \n",
      "19377                   Which arm of NARA handles grants?   \n",
      "123528  What republican majority leader died in a plan...   \n",
      "25403          Which neighborhood surrounds 122nd Street?   \n",
      "1519                What did the lamas called themselves?   \n",
      "61309   Once the slip laws are placed into the United ...   \n",
      "105754          When did Emperor Ming of Han's reign end?   \n",
      "80122   What is the national minimum monthly wage in C...   \n",
      "14744               What sort of route does data follow?    \n",
      "4194    About how many stations does New York City's c...   \n",
      "121888          What building did Julian want to rebuild?   \n",
      "31484   When were the Houston Astros in the World Series?   \n",
      "24334       Which poet was more famous, Lucan or Statius?   \n",
      "19272   What institution has none of materials from th...   \n",
      "95519                  Where was the CTR Business office?   \n",
      "\n",
      "                                                  answers  \n",
      "51829   [The virus possibly could mutate to become hig...  \n",
      "19377   [The National Historical Publications and Reco...  \n",
      "123528                                       [Hale Boggs]  \n",
      "25403                                            [Harlem]  \n",
      "1519                                            [princes]  \n",
      "61309                                      [session laws]  \n",
      "105754                                            [75 AD]  \n",
      "80122                                [450 yuan per month]  \n",
      "14744                          [the most efficient route]  \n",
      "4194                                                [250]  \n",
      "121888                               [Jerusalem's temple]  \n",
      "31484                                              [2005]  \n",
      "24334                                                  []  \n",
      "19272                                                  []  \n",
      "95519                                          [Endicott]  \n"
     ]
    }
   ],
   "source": [
    "\n",
    "df = pd.DataFrame(data)\n",
    "\n",
    "# Randomly sample 15 entries\n",
    "sample_df = df.sample(n=15, random_state=1)\n",
    "\n",
    "# Extract and calculate the lengths of context, question, and the first answer in the list (assuming non-empty)\n",
    "sample_df['context_length'] = sample_df['context'].apply(len)\n",
    "sample_df['question_length'] = sample_df['question'].apply(len)\n",
    "sample_df['answer_length'] = sample_df['answers'].apply(lambda x: len(x[0]) if x else 0)\n",
    "\n",
    "# Calculate and display statistics\n",
    "stats = {\n",
    "    'Max Length': sample_df[['context_length', 'question_length', 'answer_length']].max(),\n",
    "    'Min Length': sample_df[['context_length', 'question_length', 'answer_length']].min(),\n",
    "    'Average Length': sample_df[['context_length', 'question_length', 'answer_length']].mean()\n",
    "}\n",
    "stats_df = pd.DataFrame(stats)\n",
    "print(stats_df)\n",
    "\n",
    "\n",
    "print(sample_df[['context', 'question', 'answers']])"
   ]
  },
  {
   "cell_type": "markdown",
   "metadata": {
    "id": "8bxsH_WieUji"
   },
   "source": [
    "### Load the question answering pipeline with RoBERTa\n"
   ]
  },
  {
   "cell_type": "code",
   "execution_count": null,
   "metadata": {
    "colab": {
     "base_uri": "https://localhost:8080/"
    },
    "id": "73kk09-hfw55",
    "outputId": "c5b7a053-1927-45de-a717-9d60555a0e95"
   },
   "outputs": [
    {
     "name": "stderr",
     "output_type": "stream",
     "text": [
      "/usr/local/lib/python3.10/dist-packages/huggingface_hub/file_download.py:1132: FutureWarning: `resume_download` is deprecated and will be removed in version 1.0.0. Downloads always resume when possible. If you want to force a new download, use `force_download=True`.\n",
      "  warnings.warn(\n"
     ]
    }
   ],
   "source": [
    "from transformers import pipeline\n",
    "\n",
    "\n",
    "qa_pipeline = pipeline('question-answering', model='deepset/roberta-base-squad2')\n"
   ]
  },
  {
   "cell_type": "markdown",
   "metadata": {
    "id": "Pup-ctC_ekMI"
   },
   "source": [
    "### Apply the QA pipeline to each sample"
   ]
  },
  {
   "cell_type": "code",
   "execution_count": null,
   "metadata": {
    "colab": {
     "base_uri": "https://localhost:8080/"
    },
    "id": "gpjdpvTYfw2z",
    "outputId": "394e4fba-5f07-4a19-9690-4972977c42c5"
   },
   "outputs": [
    {
     "name": "stdout",
     "output_type": "stream",
     "text": [
      "                                                 question  \\\n",
      "51829   What is the danger to humans in regards to the...   \n",
      "19377                   Which arm of NARA handles grants?   \n",
      "123528  What republican majority leader died in a plan...   \n",
      "25403          Which neighborhood surrounds 122nd Street?   \n",
      "1519                What did the lamas called themselves?   \n",
      "61309   Once the slip laws are placed into the United ...   \n",
      "105754          When did Emperor Ming of Han's reign end?   \n",
      "80122   What is the national minimum monthly wage in C...   \n",
      "14744               What sort of route does data follow?    \n",
      "4194    About how many stations does New York City's c...   \n",
      "121888          What building did Julian want to rebuild?   \n",
      "31484   When were the Houston Astros in the World Series?   \n",
      "24334       Which poet was more famous, Lucan or Statius?   \n",
      "19272   What institution has none of materials from th...   \n",
      "95519                  Where was the CTR Business office?   \n",
      "\n",
      "                                               prediction  \n",
      "51829   {'score': 0.0645652711391449, 'start': 408, 'e...  \n",
      "19377   {'score': 0.23416781425476074, 'start': 4, 'en...  \n",
      "123528  {'score': 0.7634983658790588, 'start': 434, 'e...  \n",
      "25403   {'score': 0.9666566848754883, 'start': 199, 'e...  \n",
      "1519    {'score': 0.9500582218170166, 'start': 691, 'e...  \n",
      "61309   {'score': 0.9008473753929138, 'start': 518, 'e...  \n",
      "105754  {'score': 0.3466435968875885, 'start': 152, 'e...  \n",
      "80122   {'score': 0.16134953498840332, 'start': 489, '...  \n",
      "14744   {'score': 0.28736984729766846, 'start': 157, '...  \n",
      "4194    {'score': 0.7836416363716125, 'start': 318, 'e...  \n",
      "121888  {'score': 0.9718033671379089, 'start': 363, 'e...  \n",
      "31484   {'score': 0.9586598873138428, 'start': 264, 'e...  \n",
      "24334   {'score': 0.0963040143251419, 'start': 156, 'e...  \n",
      "19272   {'score': 6.146385800320786e-08, 'start': 360,...  \n",
      "95519   {'score': 0.9656304121017456, 'start': 187, 'e...  \n"
     ]
    }
   ],
   "source": [
    "\n",
    "def get_answers(row):\n",
    "    return qa_pipeline({\n",
    "        'context': row['context'],\n",
    "        'question': row['question']\n",
    "    })\n",
    "\n",
    "sample_df['prediction'] = sample_df.apply(get_answers, axis=1)\n",
    "print(sample_df[['question', 'prediction']])\n"
   ]
  },
  {
   "cell_type": "code",
   "execution_count": null,
   "metadata": {
    "colab": {
     "base_uri": "https://localhost:8080/"
    },
    "id": "H0m0icz3fwit",
    "outputId": "950cea7a-3d4a-4e6a-c175-69006c79bffd"
   },
   "outputs": [
    {
     "name": "stdout",
     "output_type": "stream",
     "text": [
      "        start_index  end_index  \\\n",
      "51829           408        480   \n",
      "19377             4         59   \n",
      "123528          434        444   \n",
      "25403           199        205   \n",
      "1519            691        698   \n",
      "61309           518        530   \n",
      "105754          152        157   \n",
      "80122           489        507   \n",
      "14744           157        166   \n",
      "4194            318        321   \n",
      "121888          363        381   \n",
      "31484           264        268   \n",
      "24334           156        160   \n",
      "19272           360        386   \n",
      "95519           187        195   \n",
      "\n",
      "                                            answer_tokens  \n",
      "51829   The virus possibly could mutate to become high...  \n",
      "19377   National Historical Publications and Records C...  \n",
      "123528                                         Hale Boggs  \n",
      "25403                                              Harlem  \n",
      "1519                                              princes  \n",
      "61309                                        session laws  \n",
      "105754                                              75 AD  \n",
      "80122                                  450 yuan per month  \n",
      "14744                                           efficient  \n",
      "4194                                                  250  \n",
      "121888                                 Jerusalem's temple  \n",
      "31484                                                2005  \n",
      "24334                                                Ovid  \n",
      "19272                          Victoria and Albert Museum  \n",
      "95519                                            Endicott  \n"
     ]
    }
   ],
   "source": [
    "sample_df['start_index'] = sample_df['prediction'].apply(lambda x: x['start'])\n",
    "sample_df['end_index'] = sample_df['prediction'].apply(lambda x: x['end'])\n",
    "sample_df['answer_tokens'] = sample_df['prediction'].apply(lambda x: x['answer'])\n",
    "print(sample_df[['start_index', 'end_index', 'answer_tokens']])\n"
   ]
  },
  {
   "cell_type": "code",
   "execution_count": null,
   "metadata": {
    "id": "wzsiElaZDx6C"
   },
   "outputs": [],
   "source": [
    "#!pip install --upgrade openai"
   ]
  },
  {
   "cell_type": "code",
   "execution_count": null,
   "metadata": {
    "id": "-10jklJgJJL5"
   },
   "outputs": [],
   "source": [
    "import openai\n",
    "openai.api_key = 'Removed key'\n",
    "\n"
   ]
  },
  {
   "cell_type": "code",
   "execution_count": null,
   "metadata": {
    "id": "xTUN_pcfMGQv"
   },
   "outputs": [],
   "source": [
    "#!pip install openai==0.28"
   ]
  },
  {
   "cell_type": "code",
   "execution_count": null,
   "metadata": {
    "id": "G8PjaTlbL8cd"
   },
   "outputs": [],
   "source": [
    "\n",
    "\n",
    "def ask_openai(context, question):\n",
    "    prompt = f\"Given the following context: {context} Can you answer the question: {question}? After providing your answer, please explain how you arrived at that conclusion.\"\n",
    "    response = openai.ChatCompletion.create(\n",
    "        messages=[\n",
    "            {\"role\": \"system\", \"content\": \"You are a helpful assistant.\"},\n",
    "            {\"role\": \"user\", \"content\": prompt}\n",
    "        ],\n",
    "        max_tokens=150\n",
    "    )\n",
    "    return response['choices'][0]['message']['content'].strip()\n"
   ]
  },
  {
   "cell_type": "code",
   "execution_count": null,
   "metadata": {
    "colab": {
     "base_uri": "https://localhost:8080/"
    },
    "id": "_kCSzIg2JJDx",
    "outputId": "b30e1fc5-5863-4255-9ef6-6b696bfcc120"
   },
   "outputs": [
    {
     "name": "stdout",
     "output_type": "stream",
     "text": [
      "                                             Question  \\\n",
      "0            When did Beyonce start becoming popular?   \n",
      "1   What areas did Beyonce compete in when she was...   \n",
      "2   When did Beyonce leave Destiny's Child and bec...   \n",
      "3       In what city and state did Beyonce  grow up?    \n",
      "4          In which decade did Beyonce become famous?   \n",
      "5          In what R&B group was she the lead singer?   \n",
      "6       What album made her a worldwide known artist?   \n",
      "7              Who managed the Destiny's Child group?   \n",
      "8                      When did Beyoncé rise to fame?   \n",
      "9      What role did Beyoncé have in Destiny's Child?   \n",
      "10  What was the first album Beyoncé released as a...   \n",
      "11      When did Beyoncé release Dangerously in Love?   \n",
      "12  How many Grammy awards did Beyoncé win for her...   \n",
      "13        What was Beyoncé's role in Destiny's Child?   \n",
      "14   What was the name of Beyoncé's first solo album?   \n",
      "\n",
      "                                        OpenAI Answer  \n",
      "0   Beyoncé started becoming popular in the late 1...  \n",
      "1   Beyoncé competed in singing and dancing compet...  \n",
      "2   Beyoncé left Destiny's Child and began her sol...  \n",
      "3   Beyoncé grew up in Houston, Texas. This is men...  \n",
      "4   Beyoncé became famous in the late 1990s. This ...  \n",
      "5   Beyoncé was the lead singer of the R&B girl-gr...  \n",
      "6   The album that made Beyoncé a worldwide known ...  \n",
      "7   Mathew Knowles managed the Destiny's Child gro...  \n",
      "8   Beyoncé rose to fame in the late 1990s as the ...  \n",
      "9   Beyoncé was the lead singer of Destiny's Child...  \n",
      "10  The first album Beyoncé released as a solo art...  \n",
      "11  Beyoncé released her debut album, \"Dangerously...  \n",
      "12  Beyoncé's debut solo album, \"Dangerously in Lo...  \n",
      "13  Beyoncé's role in Destiny's Child was the lead...  \n",
      "14  Beyoncé's first solo album was named \"Dangerou...  \n"
     ]
    }
   ],
   "source": [
    "# Example to test on a small subset of your dataset\n",
    "results = []\n",
    "for index, row in df.head(15).iterrows():\n",
    "    answer = ask_openai(row['context'], row['question'])\n",
    "    results.append((row['question'], answer))\n",
    "\n",
    "# Convert results to a DataFrame\n",
    "results_df = pd.DataFrame(results, columns=['Question', 'OpenAI Answer'])\n",
    "print(results_df)\n"
   ]
  }
 ],
 "metadata": {
  "colab": {
   "provenance": []
  },
  "kernelspec": {
   "display_name": "Python 3 (ipykernel)",
   "language": "python",
   "name": "python3"
  },
  "language_info": {
   "codemirror_mode": {
    "name": "ipython",
    "version": 3
   },
   "file_extension": ".py",
   "mimetype": "text/x-python",
   "name": "python",
   "nbconvert_exporter": "python",
   "pygments_lexer": "ipython3",
   "version": "3.11.7"
  }
 },
 "nbformat": 4,
 "nbformat_minor": 1
}
